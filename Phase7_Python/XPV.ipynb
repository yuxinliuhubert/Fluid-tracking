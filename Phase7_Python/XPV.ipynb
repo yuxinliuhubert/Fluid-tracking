{
 "cells": [
  {
   "cell_type": "markdown",
   "metadata": {},
   "source": [
    "Enter parameters here"
   ]
  },
  {
   "cell_type": "code",
   "execution_count": null,
   "metadata": {},
   "outputs": [],
   "source": [
    "import numpy as np\n",
    "from scipy import integrate\n",
    "import pandas as pd\n",
    "from generateTestPositions import generateTestPositions"
   ]
  },
  {
   "cell_type": "code",
   "execution_count": null,
   "metadata": {},
   "outputs": [],
   "source": [
    "# Testing with dummy data...only required when data is not available for code testing...generates projections based on magnification, rotation and known velocity profile\n",
    "NumOfDataPoints = 1\n",
    "clusterness = 0.1 # smaller number the more clustered\n",
    "# Input conditions\n",
    "initial_positions = []\n",
    "v = []\n",
    "# for i in range(1):\n",
    "#     [x,y,z] = get_initial_position(i)\n",
    "#     initial_positions.append([x, y, z])\n",
    "#     vel = get_velocity_function(i)\n",
    "#     v.append(vel)\n",
    "initial_positions = np.zeros((NumOfDataPoints,3))\n",
    "initial_positions[0] = [6,4,8]\n",
    "v.append(lambda t: [3*np.sin(t), 2*np.cos(t), np.sin(t)])\n",
    "# v.append(lambda t: [4,2,2])\n",
    "noise = 1e-3\n",
    "theta_degrees = 1.8\n",
    "rev = 2  # revolutions of camera for the entire process\n",
    "NOS = int(rev * 360 / theta_degrees)\n",
    "NOS = 200\n",
    "NOS_per_section = 159  # must be larger than 5 to satisfy equations\n",
    "camera_speed = 0.5  # in Hz or revolution per second\n",
    "SOD = 38  # mm, Source-Reference Distance\n",
    "ODD = 462  # mm, Reference-Detector (screen) Distance\n",
    "radius = 1\n",
    "\n",
    "pixelResolution = 0.172  # every pixel is equal to mm\n",
    "method = 'acceleration'\n",
    "dataPiling = 'overlap'\n",
    "\n",
    "# Auto-calculations of the rest of the parameters derived from the setting above\n",
    "delta_T = camera_speed * theta_degrees / 360\n",
    "shots_per_second = 1 / delta_T\n",
    "\n",
    "# Define the velocity function\n",
    "# v = lambda t: [0.9 * np.sin(t), 0.9 * np.cos(t), 1]\n",
    "\n",
    "# Pack conditions into a list\n",
    "conditions = [noise, delta_T, NOS, theta_degrees, NOS_per_section, SOD, ODD,method,dataPiling]\n",
    "print(conditions)\n",
    "\n",
    "xz_proj = np.zeros((NOS, NumOfDataPoints*2))\n",
    "real_positions = np.zeros((NOS, NumOfDataPoints*3))\n",
    "# Generate test positions\n",
    "for i in range(NumOfDataPoints):\n",
    "    vel = v[i]\n",
    "    xz_proj[:,i*2:i*2+2], real_positions[:,i*3:i*3+3]= generateTestPositions(vel, initial_positions[i], conditions)"
   ]
  }
 ],
 "metadata": {
  "language_info": {
   "name": "python"
  }
 },
 "nbformat": 4,
 "nbformat_minor": 2
}
