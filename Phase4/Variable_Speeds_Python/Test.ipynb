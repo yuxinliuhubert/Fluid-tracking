{
  "cells": [
    {
      "cell_type": "markdown",
      "metadata": {},
      "source": [
        "Test Phase4_3d file"
      ]
    },
    {
      "cell_type": "code",
      "execution_count": 1,
      "metadata": {
        "trusted": true
      },
      "outputs": [],
      "source": [
        "# install anaconda: https://www.anaconda.com/products/individual\n",
        "# if use Visual Studio Code, install python extension and select the python interpreter that includes anaconda\n",
        "# install micropip: https://pypi.org/project/micropip/. You can also run anaconda prompt and type \"pip install micropip\"\n",
        "import numpy as np\n",
        "import micropip\n",
        "await micropip.install(\"scipy\")"
      ]
    },
    {
      "cell_type": "code",
      "execution_count": null,
      "metadata": {},
      "outputs": [],
      "source": []
    },
    {
      "cell_type": "code",
      "execution_count": 8,
      "metadata": {
        "trusted": true
      },
      "outputs": [
        {
          "name": "stdout",
          "output_type": "stream",
          "text": [
            "[0.001, 0.0025, 400, 1.8, 180, 1, 1, 'acceleration', 'overlap']\n"
          ]
        }
      ],
      "source": [
        "from Phase4_trace_3d import Phase4_trace_3d\n",
        "# from generateTestPositions import generateTestPositions\n",
        "import generateTestPositions\n",
        "from generateTestPositions import get_velocity_function\n",
        "from generateTestPositions import generateTestPositions\n",
        "from generateTestPositions import get_initial_position\n",
        "# Cell 4\n",
        "# Testing with dummy data\n",
        "NumOfDataPoints = 2\n",
        "clusterness = 0.1 # smaller number the more clustered\n",
        "# Input conditions\n",
        "initial_positions = []\n",
        "v = []\n",
        "for i in range(NumOfDataPoints):\n",
        "    [x,y,z] = get_initial_position(i)\n",
        "    initial_positions.append([x, y, z])\n",
        "    vel = get_velocity_function(i)\n",
        "    v.append(vel)\n",
        "# initial_positions = np.zeros((NumOfDataPoints,3))\n",
        "# initial_positions[0] = get_initial_position(1)\n",
        "# v.append(lambda t: [np.sin(t), np.cos(t), 1])\n",
        "noise = 1e-3\n",
        "theta_degrees = 1.8\n",
        "rev = 2  # revolutions of camera for the entire process\n",
        "NOS = int(rev * 360 / theta_degrees)\n",
        "NOS_per_section = 180  # must be larger than 5 to satisfy equations\n",
        "camera_speed = 0.5  # in Hz or revolution per second\n",
        "SRD = 1  # m, Source-Reference Distance\n",
        "RDD = 1  # m, Reference-Detector (screen) Distance\n",
        "radius = 1\n",
        "\n",
        "method = 'acceleration'\n",
        "dataPiling = 'overlap'\n",
        "\n",
        "# Auto-calculations of the rest of the parameters derived from the setting above\n",
        "delta_T = camera_speed * theta_degrees / 360\n",
        "shots_per_second = 1 / delta_T\n",
        "\n",
        "# Define the velocity function\n",
        "# v = lambda t: [0.9 * np.sin(t), 0.9 * np.cos(t), 1]\n",
        "\n",
        "# Pack conditions into a list\n",
        "conditions = [noise, delta_T, NOS, theta_degrees, NOS_per_section, SRD, RDD,method,dataPiling]\n",
        "print(conditions)\n",
        "\n",
        "xz_proj = np.zeros((NOS, NumOfDataPoints*2))\n",
        "real_positions = np.zeros((NOS, NumOfDataPoints*3))\n",
        "# Generate test positions\n",
        "for i in range(NumOfDataPoints):\n",
        "    vel = v[i]\n",
        "    xz_proj[:,i*2:i*2+2], real_positions[:,i*3:i*3+3]= generateTestPositions(vel, initial_positions[i], conditions)"
      ]
    },
    {
      "cell_type": "code",
      "execution_count": 9,
      "metadata": {
        "trusted": true
      },
      "outputs": [
        {
          "name": "stdout",
          "output_type": "stream",
          "text": [
            "xz_proj:\n",
            "[[ 7.40370136e-05 -8.18800926e-04  3.99664215e-01  3.31852327e-04]\n",
            " [-3.39661638e-05 -5.65773071e-04  4.02388349e-01 -4.70424904e-05]\n",
            " [ 7.84839569e-04  3.67923161e-04  4.03346465e-01 -1.13908689e-04]\n",
            " ...\n",
            " [ 1.16930144e-03  1.27301588e-01  3.88572991e-01 -1.24949089e-01]\n",
            " [ 1.53079279e-03  1.27372921e-01  3.94103853e-01 -1.26283017e-01]\n",
            " [ 6.48394329e-05  1.28003369e-01  3.96308113e-01 -1.26358987e-01]]\n",
            "real_positions:\n",
            "[[ 0.00000000e+00  0.00000000e+00  0.00000000e+00  2.00000000e-01\n",
            "   0.00000000e+00  0.00000000e+00]\n",
            " [ 2.49997430e-04  0.00000000e+00  9.81742658e-07  1.99750003e-01\n",
            "   0.00000000e+00 -9.81742658e-07]\n",
            " [ 4.99979439e-04  0.00000000e+00  3.92691007e-06  1.99500021e-01\n",
            "   0.00000000e+00 -3.92691007e-06]\n",
            " ...\n",
            " [ 7.49930606e-04  0.00000000e+00  6.36531419e-02  1.99250069e-01\n",
            "   0.00000000e+00 -6.36531419e-02]\n",
            " [ 4.99979439e-04  0.00000000e+00  6.36580503e-02  1.99500021e-01\n",
            "   0.00000000e+00 -6.36580503e-02]\n",
            " [ 2.49997430e-04  0.00000000e+00  6.36609955e-02  1.99750003e-01\n",
            "   0.00000000e+00 -6.36609955e-02]]\n"
          ]
        }
      ],
      "source": [
        "# Print the first few rows of the generated data\n",
        "print(\"xz_proj:\")\n",
        "print(xz_proj[:])\n",
        "print(\"real_positions:\")\n",
        "print(real_positions[:])"
      ]
    },
    {
      "cell_type": "code",
      "execution_count": 10,
      "metadata": {
        "trusted": true
      },
      "outputs": [
        {
          "name": "stdout",
          "output_type": "stream",
          "text": [
            "[[ 7.40370136e-05 -8.18800926e-04  3.99664215e-01  3.31852327e-04]\n",
            " [-3.39661638e-05 -5.65773071e-04  4.02388349e-01 -4.70424904e-05]\n",
            " [ 7.84839569e-04  3.67923161e-04  4.03346465e-01 -1.13908689e-04]\n",
            " ...\n",
            " [ 3.88572991e-01 -1.24949089e-01  1.16930144e-03  1.27301588e-01]\n",
            " [ 3.94103853e-01 -1.26283017e-01  1.53079279e-03  1.27372921e-01]\n",
            " [ 3.96308113e-01 -1.26358987e-01  6.48394329e-05  1.28003369e-01]]\n",
            "NOS:  400\n",
            "NOS_per_Section:  180\n",
            "NOS:  400\n",
            "NOS_per_Section:  180\n"
          ]
        }
      ],
      "source": [
        "# Import the function directly from the module\n",
        "from Phase4_trace_3d import Phase4_trace_3d\n",
        "from smooth_points import smooth_points\n",
        "import particle_path_finder\n",
        "from particle_path_finder import track_particles\n",
        "\n",
        "# Ai recognition caller\n",
        "alpha = np.radians(theta_degrees)  # Example rotation angle in radians\n",
        "tracked = track_particles(xz_proj, alpha)\n",
        "print(tracked)\n",
        "\n",
        "estimated_positions = np.zeros((NOS,3*NumOfDataPoints))\n",
        "# Then you can call it just by its name:\n",
        "for i in range(NumOfDataPoints):\n",
        "    estimated_positions_single = Phase4_trace_3d(conditions, xz_proj[:,i*2:i*2+2])\n",
        "    estimated_positions_single = smooth_points(estimated_positions_single, 'sg',NOS_per_section)\n",
        "\n",
        "    estimated_positions[:,i*3:i*3+3] = estimated_positions_single\n",
        "\n"
      ]
    },
    {
      "cell_type": "code",
      "execution_count": 11,
      "metadata": {
        "trusted": true
      },
      "outputs": [
        {
          "name": "stdout",
          "output_type": "stream",
          "text": [
            "estimated positions: \n",
            " [[-1.09627603e-04 -7.73146063e-04 -8.26170830e-04  1.95290058e-01\n",
            "  -5.15374818e-03  7.37900621e-04]\n",
            " [ 1.57213890e-04 -7.77029423e-04 -8.03246591e-04  1.95120169e-01\n",
            "  -5.16184824e-03  7.15855808e-04]\n",
            " [ 4.23128269e-04 -7.80860684e-04 -7.78863068e-04  1.94950366e-01\n",
            "  -5.16987174e-03  6.92349152e-04]\n",
            " ...\n",
            " [ 1.00069473e-03  1.69206088e-03  6.12040931e-02  1.89213348e-01\n",
            "  -7.59987610e-03 -6.09477736e-02]\n",
            " [ 7.13611986e-04  1.75159739e-03  6.11669137e-02  1.89282088e-01\n",
            "  -7.64978194e-03 -6.09083721e-02]\n",
            " [ 4.25186511e-04  1.81169602e-03  6.11276792e-02  1.89350117e-01\n",
            "  -7.70016068e-03 -6.08669020e-02]]\n"
          ]
        }
      ],
      "source": [
        "print('estimated positions: \\n',estimated_positions)\n",
        "# print('real positions: \\n',real_positions)"
      ]
    },
    {
      "cell_type": "code",
      "execution_count": 12,
      "metadata": {
        "trusted": true
      },
      "outputs": [
        {
          "name": "stdout",
          "output_type": "stream",
          "text": [
            "TkAgg\n"
          ]
        }
      ],
      "source": [
        "import matplotlib\n",
        "print(matplotlib.get_backend())\n",
        "import matplotlib.pyplot as plt\n",
        "matplotlib.use('TkAgg')  # or another interactive backend\n",
        "\n",
        "# from mpl_toolkits.mplot3d import Axes3D\n",
        "import os\n",
        "\n",
        "\n",
        "def Phase4Graph(real_positions, estimated_positions, conditions, v, f2):\n",
        "    noise, delta_T, NOS, theta_degree, N, SRD, RDD, method, dataPiling = conditions\n",
        "    \n",
        "    plt.ion()\n",
        "    # Ensure that real_positions and estimated_positions are the same length\n",
        "    real_positions = real_positions[:len(estimated_positions)]\n",
        "    \n",
        "    fig = plt.figure(f2, figsize=(20, 16), dpi=100)\n",
        "    \n",
        "    ax1 = fig.add_subplot(111, projection='3d')\n",
        "    \n",
        "    for i in range(NumOfDataPoints):\n",
        "        ax1.plot(real_positions[:, i*3], real_positions[:, i*3+1], real_positions[:, i*3+2], 'r', markersize=10)\n",
        "        ax1.plot(estimated_positions[:, i*3], estimated_positions[:, i*3+1], estimated_positions[:, i*3+2], 'b', markersize=20)\n",
        "    \n",
        "    ax1.set_xlabel('X')\n",
        "    ax1.set_ylabel('Y')\n",
        "    ax1.set_zlabel('Z')\n",
        "    ax1.set_xlim([-0.5, 0.5])\n",
        "    ax1.set_ylim([-0.5, 0.5])\n",
        "    ax1.set_zlim([0, 1.5])\n",
        "    ax1.set_title('Real Positions vs Estimated Positions in 3D')\n",
        "    ax1.legend(['Real Positions', 'Estimated Positions'])\n",
        "    \n",
        "    distances = np.linalg.norm(real_positions - estimated_positions, axis=1)\n",
        "    min_val, min_idx = np.min(distances), np.argmin(distances)\n",
        "    max_val, max_idx = np.max(distances), np.argmax(distances)\n",
        "    \n",
        "    # ax1.text(*real_positions[min_idx], f'Min ({min_idx}): {real_positions[min_idx]}', color='r')\n",
        "    # ax1.text(*estimated_positions[min_idx], f'Min ({min_idx}): {estimated_positions[min_idx]}', color='b')\n",
        "    # ax1.text(*real_positions[max_idx], f'Max ({max_idx}): {real_positions[max_idx]}', color='r')\n",
        "    # ax1.text(*estimated_positions[max_idx], f'Max ({max_idx}): {estimated_positions[max_idx]}', color='b')\n",
        "    \n",
        "    print(f'Noise: {noise}\\nMin Distance: {min_val}\\nMax Distance: {max_val}\\nNumber of Shots: {NOS}\\nRotation: {theta_degree}\\nTime Between Shots: {delta_T}\\nNOS Per Section: {N}\\nMethod: {method}\\nData Piling: {dataPiling}')\n",
        "    \n",
        "    v_str = str(v).replace('<function ', '').replace(' at 0x' + hex(id(v))[2:] + '>', '')\n",
        "    \n",
        "    print(f'True velocity:\\n{v_str}\\nt is time elapsed')\n",
        "    \n",
        "    \n",
        "    plt.show()\n"
      ]
    },
    {
      "cell_type": "code",
      "execution_count": 13,
      "metadata": {
        "trusted": true
      },
      "outputs": [
        {
          "name": "stdout",
          "output_type": "stream",
          "text": [
            "Noise: 0.001\n",
            "Min Distance: 0.005155346691172878\n",
            "Max Distance: 0.013601017371561155\n",
            "Number of Shots: 400\n",
            "Rotation: 1.8\n",
            "Time Between Shots: 0.0025\n",
            "NOS Per Section: 180\n",
            "Method: acceleration\n",
            "Data Piling: overlap\n",
            "True velocity:\n",
            "[get_velocity_function.<locals>.<lambda> at 0x0000015668861DA0>, get_velocity_function.<locals>.<lambda> at 0x000001565DAB4400>]\n",
            "t is time elapsed\n"
          ]
        }
      ],
      "source": [
        "f2 = 0\n",
        "Phase4Graph(real_positions, estimated_positions, conditions, v, f2)"
      ]
    },
    {
      "cell_type": "code",
      "execution_count": null,
      "metadata": {},
      "outputs": [],
      "source": []
    }
  ],
  "metadata": {
    "kernelspec": {
      "display_name": "Python 3",
      "language": "python",
      "name": "python3"
    },
    "language_info": {
      "codemirror_mode": {
        "name": "ipython",
        "version": 3
      },
      "file_extension": ".py",
      "mimetype": "text/x-python",
      "name": "python",
      "nbconvert_exporter": "python",
      "pygments_lexer": "ipython3",
      "version": "3.11.4"
    }
  },
  "nbformat": 4,
  "nbformat_minor": 4
}
