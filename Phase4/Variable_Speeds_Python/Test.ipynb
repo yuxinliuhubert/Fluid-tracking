{
  "cells": [
    {
      "cell_type": "markdown",
      "metadata": {},
      "source": [
        "Test Phase4_3d file"
      ]
    },
    {
      "cell_type": "code",
      "execution_count": 1,
      "metadata": {
        "trusted": true
      },
      "outputs": [],
      "source": [
        "# install anaconda: https://www.anaconda.com/products/individual\n",
        "# if use Visual Studio Code, install python extension and select the python interpreter that includes anaconda\n",
        "# install micropip: https://pypi.org/project/micropip/. You can also run anaconda prompt and type \"pip install micropip\"\n",
        "import numpy as np\n",
        "import micropip\n",
        "await micropip.install(\"scipy\")"
      ]
    },
    {
      "cell_type": "code",
      "execution_count": null,
      "metadata": {},
      "outputs": [],
      "source": []
    },
    {
      "cell_type": "code",
      "execution_count": 2,
      "metadata": {
        "trusted": true
      },
      "outputs": [],
      "source": [
        "from Phase4_trace_3d import Phase4_trace_3d\n",
        "# from generateTestPositions import generateTestPositions\n",
        "import generateTestPositions\n",
        "from generateTestPositions import get_velocity_function\n",
        "from generateTestPositions import generateTestPositions\n",
        "from generateTestPositions import get_initial_position\n",
        "# Cell 4\n",
        "# Testing with dummy data\n",
        "NumOfDataPoints = 2\n",
        "clusterness = 0.1 # smaller number the more clustered\n",
        "# Input conditions\n",
        "initial_positions = []\n",
        "v = []\n",
        "for i in range(NumOfDataPoints):\n",
        "    [x,y,z] = get_initial_position(i)\n",
        "    initial_positions.append([x, y, z])\n",
        "    vel = get_velocity_function(i)\n",
        "    v.append(vel)\n",
        "# initial_positions = np.zeros((NumOfDataPoints,3))\n",
        "# initial_positions[0] = get_initial_position(1)\n",
        "# v.append(lambda t: [np.sin(t), np.cos(t), 1])\n",
        "noise = 1e-3\n",
        "theta_degrees = 1.8\n",
        "rev = 2  # revolutions of camera for the entire process\n",
        "NOS = int(rev * 360 / theta_degrees)\n",
        "NOS_per_section = 180  # must be larger than 5 to satisfy equations\n",
        "camera_speed = 0.5  # in Hz or revolution per second\n",
        "SRD = 1  # m, Source-Reference Distance\n",
        "RDD = 1  # m, Reference-Detector (screen) Distance\n",
        "radius = 1\n",
        "\n",
        "method = 'acceleration'\n",
        "dataPiling = 'overlap'\n",
        "\n",
        "# Auto-calculations of the rest of the parameters derived from the setting above\n",
        "delta_T = camera_speed * theta_degrees / 360\n",
        "shots_per_second = 1 / delta_T\n",
        "\n",
        "# Define the velocity function\n",
        "# v = lambda t: [0.9 * np.sin(t), 0.9 * np.cos(t), 1]\n",
        "\n",
        "# Pack conditions into a list\n",
        "conditions = [noise, delta_T, NOS, theta_degrees, NOS_per_section, SRD, RDD,method,dataPiling]\n",
        "\n",
        "xz_proj = np.zeros((NOS, NumOfDataPoints*2))\n",
        "real_positions = np.zeros((NOS, NumOfDataPoints*3))\n",
        "# Generate test positions\n",
        "for i in range(NumOfDataPoints):\n",
        "    vel = v[i]\n",
        "    xz_proj[:,i*2:i*2+2], real_positions[:,i*3:i*3+3]= generateTestPositions(vel, initial_positions[i], conditions)"
      ]
    },
    {
      "cell_type": "code",
      "execution_count": 3,
      "metadata": {
        "trusted": true
      },
      "outputs": [
        {
          "name": "stdout",
          "output_type": "stream",
          "text": [
            "xz_proj:\n",
            "[[-4.68026559e-04 -1.49641352e-03  3.99799037e-01 -5.73251410e-04]\n",
            " [ 1.08528531e-03 -9.67513962e-05  4.02117965e-01 -1.23034447e-03]\n",
            " [ 1.10175134e-03  1.59598319e-04  4.03507269e-01  5.53450987e-05]\n",
            " ...\n",
            " [ 1.20399768e-03  1.27215093e-01  3.88714336e-01 -1.24810170e-01]\n",
            " [ 2.06841215e-03  1.27628158e-01  3.93668296e-01 -1.25660678e-01]\n",
            " [-2.25854726e-04  1.26642828e-01  3.97726051e-01 -1.26184408e-01]]\n",
            "real_positions:\n",
            "[[ 0.00000000e+00  0.00000000e+00  0.00000000e+00  2.00000000e-01\n",
            "   0.00000000e+00  0.00000000e+00]\n",
            " [ 2.49997430e-04  0.00000000e+00  9.81742658e-07  1.99750003e-01\n",
            "   0.00000000e+00 -9.81742658e-07]\n",
            " [ 4.99979439e-04  0.00000000e+00  3.92691007e-06  1.99500021e-01\n",
            "   0.00000000e+00 -3.92691007e-06]\n",
            " ...\n",
            " [ 7.49930606e-04  0.00000000e+00  6.36531419e-02  1.99250069e-01\n",
            "   0.00000000e+00 -6.36531419e-02]\n",
            " [ 4.99979439e-04  0.00000000e+00  6.36580503e-02  1.99500021e-01\n",
            "   0.00000000e+00 -6.36580503e-02]\n",
            " [ 2.49997430e-04  0.00000000e+00  6.36609955e-02  1.99750003e-01\n",
            "   0.00000000e+00 -6.36609955e-02]]\n"
          ]
        }
      ],
      "source": [
        "# Print the first few rows of the generated data\n",
        "print(\"xz_proj:\")\n",
        "print(xz_proj[:])\n",
        "print(\"real_positions:\")\n",
        "print(real_positions[:])"
      ]
    },
    {
      "cell_type": "code",
      "execution_count": 4,
      "metadata": {
        "trusted": true
      },
      "outputs": [
        {
          "name": "stdout",
          "output_type": "stream",
          "text": [
            "[[-4.68026559e-04 -1.49641352e-03  3.99799037e-01 -5.73251410e-04]\n",
            " [ 1.08528531e-03 -9.67513962e-05  4.02117965e-01 -1.23034447e-03]\n",
            " [ 1.10175134e-03  1.59598319e-04  4.03507269e-01  5.53450987e-05]\n",
            " ...\n",
            " [ 3.88714336e-01 -1.24810170e-01  1.20399768e-03  1.27215093e-01]\n",
            " [ 3.93668296e-01 -1.25660678e-01  2.06841215e-03  1.27628158e-01]\n",
            " [ 3.97726051e-01 -1.26184408e-01 -2.25854726e-04  1.26642828e-01]]\n",
            "NOS:  400\n",
            "NOS_per_Section:  180\n",
            "NOS:  400\n",
            "NOS_per_Section:  180\n"
          ]
        }
      ],
      "source": [
        "# Import the function directly from the module\n",
        "from Phase4_trace_3d import Phase4_trace_3d\n",
        "from smooth_points import smooth_points\n",
        "import particle_path_finder\n",
        "from particle_path_finder import track_particles\n",
        "\n",
        "# Ai recognition caller\n",
        "alpha = np.radians(theta_degrees)  # Example rotation angle in radians\n",
        "tracked = track_particles(xz_proj, alpha)\n",
        "print(tracked)\n",
        "\n",
        "estimated_positions = np.zeros((NOS,3*NumOfDataPoints))\n",
        "# Then you can call it just by its name:\n",
        "for i in range(NumOfDataPoints):\n",
        "    estimated_positions_single = Phase4_trace_3d(conditions, xz_proj[:,i*2:i*2+2])\n",
        "    estimated_positions_single = smooth_points(estimated_positions_single, 'sg',NOS_per_section)\n",
        "\n",
        "    estimated_positions[:,i*3:i*3+3] = estimated_positions_single\n",
        "\n"
      ]
    },
    {
      "cell_type": "code",
      "execution_count": 5,
      "metadata": {
        "trusted": true
      },
      "outputs": [
        {
          "name": "stdout",
          "output_type": "stream",
          "text": [
            "estimated positions: \n",
            " [[-2.54556473e-04 -5.13470931e-04 -8.82033772e-04  1.95052315e-01\n",
            "  -4.87826622e-03  7.73184495e-04]\n",
            " [ 1.89847287e-05 -5.25703041e-04 -8.57723264e-04  1.94886754e-01\n",
            "  -4.89171401e-03  7.51254373e-04]\n",
            " [ 2.91517346e-04 -5.37799179e-04 -8.31971162e-04  1.94721250e-01\n",
            "  -4.90504976e-03  7.27862418e-04]\n",
            " ...\n",
            " [ 1.06433018e-03  1.60662960e-03  6.11084464e-02  1.89402179e-01\n",
            "  -7.01245862e-03 -6.10427447e-02]\n",
            " [ 7.81267776e-04  1.65910297e-03  6.10699971e-02  1.89470594e-01\n",
            "  -7.04607822e-03 -6.10049238e-02]\n",
            " [ 4.96924602e-04  1.71205332e-03  6.10294849e-02  1.89538259e-01\n",
            "  -7.07999520e-03 -6.09650504e-02]]\n"
          ]
        }
      ],
      "source": [
        "print('estimated positions: \\n',estimated_positions)\n",
        "# print('real positions: \\n',real_positions)"
      ]
    },
    {
      "cell_type": "code",
      "execution_count": 6,
      "metadata": {
        "trusted": true
      },
      "outputs": [
        {
          "name": "stdout",
          "output_type": "stream",
          "text": [
            "module://matplotlib_inline.backend_inline\n"
          ]
        }
      ],
      "source": [
        "import matplotlib\n",
        "print(matplotlib.get_backend())\n",
        "import matplotlib.pyplot as plt\n",
        "matplotlib.use('TkAgg')  # or another interactive backend\n",
        "\n",
        "# from mpl_toolkits.mplot3d import Axes3D\n",
        "import os\n",
        "\n",
        "\n",
        "def Phase4Graph(real_positions, estimated_positions, conditions, v, f2):\n",
        "    noise, delta_T, NOS, theta_degree, N, SRD, RDD, method, dataPiling = conditions\n",
        "    \n",
        "    plt.ion()\n",
        "    # Ensure that real_positions and estimated_positions are the same length\n",
        "    real_positions = real_positions[:len(estimated_positions)]\n",
        "    \n",
        "    fig = plt.figure(f2, figsize=(20, 16), dpi=100)\n",
        "    \n",
        "    ax1 = fig.add_subplot(111, projection='3d')\n",
        "    \n",
        "    for i in range(NumOfDataPoints):\n",
        "        ax1.plot(real_positions[:, i*3], real_positions[:, i*3+1], real_positions[:, i*3+2], 'r', markersize=10)\n",
        "        ax1.plot(estimated_positions[:, i*3], estimated_positions[:, i*3+1], estimated_positions[:, i*3+2], 'b', markersize=20)\n",
        "    \n",
        "    ax1.set_xlabel('X')\n",
        "    ax1.set_ylabel('Y')\n",
        "    ax1.set_zlabel('Z')\n",
        "    ax1.set_xlim([-0.5, 0.5])\n",
        "    ax1.set_ylim([-0.5, 0.5])\n",
        "    ax1.set_zlim([0, 1.5])\n",
        "    ax1.set_title('Real Positions vs Estimated Positions in 3D')\n",
        "    ax1.legend(['Real Positions', 'Estimated Positions'])\n",
        "    \n",
        "    distances = np.linalg.norm(real_positions - estimated_positions, axis=1)\n",
        "    min_val, min_idx = np.min(distances), np.argmin(distances)\n",
        "    max_val, max_idx = np.max(distances), np.argmax(distances)\n",
        "    \n",
        "    # ax1.text(*real_positions[min_idx], f'Min ({min_idx}): {real_positions[min_idx]}', color='r')\n",
        "    # ax1.text(*estimated_positions[min_idx], f'Min ({min_idx}): {estimated_positions[min_idx]}', color='b')\n",
        "    # ax1.text(*real_positions[max_idx], f'Max ({max_idx}): {real_positions[max_idx]}', color='r')\n",
        "    # ax1.text(*estimated_positions[max_idx], f'Max ({max_idx}): {estimated_positions[max_idx]}', color='b')\n",
        "    \n",
        "    print(f'Noise: {noise}\\nMin Distance: {min_val}\\nMax Distance: {max_val}\\nNumber of Shots: {NOS}\\nRotation: {theta_degree}\\nTime Between Shots: {delta_T}\\nNOS Per Section: {N}\\nMethod: {method}\\nData Piling: {dataPiling}')\n",
        "    \n",
        "    v_str = str(v).replace('<function ', '').replace(' at 0x' + hex(id(v))[2:] + '>', '')\n",
        "    \n",
        "    print(f'True velocity:\\n{v_str}\\nt is time elapsed')\n",
        "    \n",
        "    \n",
        "    plt.show()\n"
      ]
    },
    {
      "cell_type": "code",
      "execution_count": 7,
      "metadata": {
        "trusted": true
      },
      "outputs": [
        {
          "name": "stdout",
          "output_type": "stream",
          "text": [
            "Noise: 0.001\n",
            "Min Distance: 0.0052120025586055215\n",
            "Max Distance: 0.013099278965137016\n",
            "Number of Shots: 400\n",
            "Rotation: 1.8\n",
            "Time Between Shots: 0.0025\n",
            "NOS Per Section: 180\n",
            "Method: acceleration\n",
            "Data Piling: overlap\n",
            "True velocity:\n",
            "[get_velocity_function.<locals>.<lambda> at 0x00000185801FDE40>, get_velocity_function.<locals>.<lambda> at 0x0000018581AAC540>]\n",
            "t is time elapsed\n"
          ]
        }
      ],
      "source": [
        "f2 = 0\n",
        "Phase4Graph(real_positions, estimated_positions, conditions, v, f2)"
      ]
    },
    {
      "cell_type": "code",
      "execution_count": null,
      "metadata": {},
      "outputs": [],
      "source": []
    }
  ],
  "metadata": {
    "kernelspec": {
      "display_name": "Python 3",
      "language": "python",
      "name": "python3"
    },
    "language_info": {
      "codemirror_mode": {
        "name": "ipython",
        "version": 3
      },
      "file_extension": ".py",
      "mimetype": "text/x-python",
      "name": "python",
      "nbconvert_exporter": "python",
      "pygments_lexer": "ipython3",
      "version": "3.11.4"
    }
  },
  "nbformat": 4,
  "nbformat_minor": 4
}
