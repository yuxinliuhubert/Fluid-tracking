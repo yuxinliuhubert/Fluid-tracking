{
  "cells": [
    {
      "cell_type": "markdown",
      "metadata": {},
      "source": [
        "Test Phase4_3d file"
      ]
    },
    {
      "cell_type": "code",
      "execution_count": 1,
      "metadata": {
        "trusted": true
      },
      "outputs": [],
      "source": [
        "# install anaconda: https://www.anaconda.com/products/individual\n",
        "# if use Visual Studio Code, install python extension and select the python interpreter that includes anaconda\n",
        "# install micropip: https://pypi.org/project/micropip/. You can also run anaconda prompt and type \"pip install micropip\"\n",
        "import numpy as np\n",
        "import micropip\n",
        "await micropip.install(\"scipy\")"
      ]
    },
    {
      "cell_type": "code",
      "execution_count": null,
      "metadata": {},
      "outputs": [],
      "source": []
    },
    {
      "cell_type": "code",
      "execution_count": 2,
      "metadata": {
        "trusted": true
      },
      "outputs": [
        {
          "ename": "TypeError",
          "evalue": "'NoneType' object is not callable",
          "output_type": "error",
          "traceback": [
            "\u001b[1;31m---------------------------------------------------------------------------\u001b[0m",
            "\u001b[1;31mTypeError\u001b[0m                                 Traceback (most recent call last)",
            "\u001b[1;32mc:\\Users\\10032\\Documents\\GitHub\\Fluid-tracking\\Phase4\\Variable_Speeds_Python\\Test.ipynb Cell 4\u001b[0m line \u001b[0;36m5\n\u001b[0;32m     <a href='vscode-notebook-cell:/c%3A/Users/10032/Documents/GitHub/Fluid-tracking/Phase4/Variable_Speeds_Python/Test.ipynb#W3sZmlsZQ%3D%3D?line=47'>48</a>\u001b[0m \u001b[39mfor\u001b[39;00m i \u001b[39min\u001b[39;00m \u001b[39mrange\u001b[39m(NumOfDataPoints):\n\u001b[0;32m     <a href='vscode-notebook-cell:/c%3A/Users/10032/Documents/GitHub/Fluid-tracking/Phase4/Variable_Speeds_Python/Test.ipynb#W3sZmlsZQ%3D%3D?line=48'>49</a>\u001b[0m     vel \u001b[39m=\u001b[39m v[i]\n\u001b[1;32m---> <a href='vscode-notebook-cell:/c%3A/Users/10032/Documents/GitHub/Fluid-tracking/Phase4/Variable_Speeds_Python/Test.ipynb#W3sZmlsZQ%3D%3D?line=49'>50</a>\u001b[0m     xz_proj[:,i\u001b[39m*\u001b[39m\u001b[39m2\u001b[39m:i\u001b[39m*\u001b[39m\u001b[39m2\u001b[39m\u001b[39m+\u001b[39m\u001b[39m2\u001b[39m], real_positions[:,i\u001b[39m*\u001b[39m\u001b[39m3\u001b[39m:i\u001b[39m*\u001b[39m\u001b[39m3\u001b[39m\u001b[39m+\u001b[39m\u001b[39m3\u001b[39m]\u001b[39m=\u001b[39m generateTestPositions(vel, initial_positions[i], conditions)\n",
            "File \u001b[1;32mc:\\Users\\10032\\Documents\\GitHub\\Fluid-tracking\\Phase4\\Variable_Speeds_Python\\generateTestPositions.py:21\u001b[0m, in \u001b[0;36mgenerateTestPositions\u001b[1;34m(vel_expression, initial_position_3d, conditions)\u001b[0m\n\u001b[0;32m     18\u001b[0m z_proj[\u001b[39m0\u001b[39m] \u001b[39m=\u001b[39m M_p \u001b[39m*\u001b[39m r0_0[\u001b[39m2\u001b[39m] \u001b[39m+\u001b[39m np\u001b[39m.\u001b[39mrandom\u001b[39m.\u001b[39mrandn() \u001b[39m*\u001b[39m noise \u001b[39m/\u001b[39m \u001b[39m2\u001b[39m\n\u001b[0;32m     20\u001b[0m \u001b[39mfor\u001b[39;00m k \u001b[39min\u001b[39;00m \u001b[39mrange\u001b[39m(\u001b[39m1\u001b[39m, NOS):\n\u001b[1;32m---> 21\u001b[0m     r0_k \u001b[39m=\u001b[39m r0_0 \u001b[39m+\u001b[39m np\u001b[39m.\u001b[39marray([\n\u001b[0;32m     22\u001b[0m         integrate\u001b[39m.\u001b[39mquad(\u001b[39mlambda\u001b[39;00m t: vel_expression(t)[i], \u001b[39m0\u001b[39m, delta_T \u001b[39m*\u001b[39m k)[\u001b[39m0\u001b[39m]\n\u001b[0;32m     23\u001b[0m         \u001b[39mfor\u001b[39;00m i \u001b[39min\u001b[39;00m \u001b[39mrange\u001b[39m(\u001b[39mlen\u001b[39m(initial_position_3d))\n\u001b[0;32m     24\u001b[0m     ])\n\u001b[0;32m     25\u001b[0m     real_positions[k,:] \u001b[39m=\u001b[39m r0_k\n\u001b[0;32m     27\u001b[0m     r_now \u001b[39m=\u001b[39m T(r0_k, theta \u001b[39m*\u001b[39m k)\n",
            "File \u001b[1;32mc:\\Users\\10032\\Documents\\GitHub\\Fluid-tracking\\Phase4\\Variable_Speeds_Python\\generateTestPositions.py:22\u001b[0m, in \u001b[0;36m<listcomp>\u001b[1;34m(.0)\u001b[0m\n\u001b[0;32m     18\u001b[0m z_proj[\u001b[39m0\u001b[39m] \u001b[39m=\u001b[39m M_p \u001b[39m*\u001b[39m r0_0[\u001b[39m2\u001b[39m] \u001b[39m+\u001b[39m np\u001b[39m.\u001b[39mrandom\u001b[39m.\u001b[39mrandn() \u001b[39m*\u001b[39m noise \u001b[39m/\u001b[39m \u001b[39m2\u001b[39m\n\u001b[0;32m     20\u001b[0m \u001b[39mfor\u001b[39;00m k \u001b[39min\u001b[39;00m \u001b[39mrange\u001b[39m(\u001b[39m1\u001b[39m, NOS):\n\u001b[0;32m     21\u001b[0m     r0_k \u001b[39m=\u001b[39m r0_0 \u001b[39m+\u001b[39m np\u001b[39m.\u001b[39marray([\n\u001b[1;32m---> 22\u001b[0m         integrate\u001b[39m.\u001b[39mquad(\u001b[39mlambda\u001b[39;00m t: vel_expression(t)[i], \u001b[39m0\u001b[39m, delta_T \u001b[39m*\u001b[39m k)[\u001b[39m0\u001b[39m]\n\u001b[0;32m     23\u001b[0m         \u001b[39mfor\u001b[39;00m i \u001b[39min\u001b[39;00m \u001b[39mrange\u001b[39m(\u001b[39mlen\u001b[39m(initial_position_3d))\n\u001b[0;32m     24\u001b[0m     ])\n\u001b[0;32m     25\u001b[0m     real_positions[k,:] \u001b[39m=\u001b[39m r0_k\n\u001b[0;32m     27\u001b[0m     r_now \u001b[39m=\u001b[39m T(r0_k, theta \u001b[39m*\u001b[39m k)\n",
            "File \u001b[1;32mc:\\Users\\10032\\anaconda3\\Lib\\site-packages\\scipy\\integrate\\_quadpack_py.py:463\u001b[0m, in \u001b[0;36mquad\u001b[1;34m(func, a, b, args, full_output, epsabs, epsrel, limit, points, weight, wvar, wopts, maxp1, limlst, complex_func)\u001b[0m\n\u001b[0;32m    460\u001b[0m     \u001b[39mreturn\u001b[39;00m retval\n\u001b[0;32m    462\u001b[0m \u001b[39mif\u001b[39;00m weight \u001b[39mis\u001b[39;00m \u001b[39mNone\u001b[39;00m:\n\u001b[1;32m--> 463\u001b[0m     retval \u001b[39m=\u001b[39m _quad(func, a, b, args, full_output, epsabs, epsrel, limit,\n\u001b[0;32m    464\u001b[0m                    points)\n\u001b[0;32m    465\u001b[0m \u001b[39melse\u001b[39;00m:\n\u001b[0;32m    466\u001b[0m     \u001b[39mif\u001b[39;00m points \u001b[39mis\u001b[39;00m \u001b[39mnot\u001b[39;00m \u001b[39mNone\u001b[39;00m:\n",
            "File \u001b[1;32mc:\\Users\\10032\\anaconda3\\Lib\\site-packages\\scipy\\integrate\\_quadpack_py.py:575\u001b[0m, in \u001b[0;36m_quad\u001b[1;34m(func, a, b, args, full_output, epsabs, epsrel, limit, points)\u001b[0m\n\u001b[0;32m    573\u001b[0m \u001b[39mif\u001b[39;00m points \u001b[39mis\u001b[39;00m \u001b[39mNone\u001b[39;00m:\n\u001b[0;32m    574\u001b[0m     \u001b[39mif\u001b[39;00m infbounds \u001b[39m==\u001b[39m \u001b[39m0\u001b[39m:\n\u001b[1;32m--> 575\u001b[0m         \u001b[39mreturn\u001b[39;00m _quadpack\u001b[39m.\u001b[39m_qagse(func,a,b,args,full_output,epsabs,epsrel,limit)\n\u001b[0;32m    576\u001b[0m     \u001b[39melse\u001b[39;00m:\n\u001b[0;32m    577\u001b[0m         \u001b[39mreturn\u001b[39;00m _quadpack\u001b[39m.\u001b[39m_qagie(func,bound,infbounds,args,full_output,epsabs,epsrel,limit)\n",
            "File \u001b[1;32mc:\\Users\\10032\\Documents\\GitHub\\Fluid-tracking\\Phase4\\Variable_Speeds_Python\\generateTestPositions.py:22\u001b[0m, in \u001b[0;36mgenerateTestPositions.<locals>.<lambda>\u001b[1;34m(t)\u001b[0m\n\u001b[0;32m     18\u001b[0m z_proj[\u001b[39m0\u001b[39m] \u001b[39m=\u001b[39m M_p \u001b[39m*\u001b[39m r0_0[\u001b[39m2\u001b[39m] \u001b[39m+\u001b[39m np\u001b[39m.\u001b[39mrandom\u001b[39m.\u001b[39mrandn() \u001b[39m*\u001b[39m noise \u001b[39m/\u001b[39m \u001b[39m2\u001b[39m\n\u001b[0;32m     20\u001b[0m \u001b[39mfor\u001b[39;00m k \u001b[39min\u001b[39;00m \u001b[39mrange\u001b[39m(\u001b[39m1\u001b[39m, NOS):\n\u001b[0;32m     21\u001b[0m     r0_k \u001b[39m=\u001b[39m r0_0 \u001b[39m+\u001b[39m np\u001b[39m.\u001b[39marray([\n\u001b[1;32m---> 22\u001b[0m         integrate\u001b[39m.\u001b[39mquad(\u001b[39mlambda\u001b[39;00m t: vel_expression(t)[i], \u001b[39m0\u001b[39m, delta_T \u001b[39m*\u001b[39m k)[\u001b[39m0\u001b[39m]\n\u001b[0;32m     23\u001b[0m         \u001b[39mfor\u001b[39;00m i \u001b[39min\u001b[39;00m \u001b[39mrange\u001b[39m(\u001b[39mlen\u001b[39m(initial_position_3d))\n\u001b[0;32m     24\u001b[0m     ])\n\u001b[0;32m     25\u001b[0m     real_positions[k,:] \u001b[39m=\u001b[39m r0_k\n\u001b[0;32m     27\u001b[0m     r_now \u001b[39m=\u001b[39m T(r0_k, theta \u001b[39m*\u001b[39m k)\n",
            "\u001b[1;31mTypeError\u001b[0m: 'NoneType' object is not callable"
          ]
        }
      ],
      "source": [
        "from Phase4_trace_3d import Phase4_trace_3d\n",
        "# from generateTestPositions import generateTestPositions\n",
        "import generateTestPositions\n",
        "from generateTestPositions import get_velocity_function\n",
        "from generateTestPositions import generateTestPositions\n",
        "from generateTestPositions import get_initial_position\n",
        "# Cell 4\n",
        "# Testing with dummy data\n",
        "NumOfDataPoints = 2\n",
        "clusterness = 0.1 # smaller number the more clustered\n",
        "# Input conditions\n",
        "initial_positions = []\n",
        "v = []\n",
        "for i in range(NumOfDataPoints):\n",
        "    [x,y,z] = get_initial_position(i)\n",
        "    initial_positions.append([x, y, z])\n",
        "    vel = get_velocity_function(i)\n",
        "    v.append(vel)\n",
        "# initial_positions = np.zeros((NumOfDataPoints,3))\n",
        "# initial_positions[0] = get_initial_position(1)\n",
        "# v.append(lambda t: [np.sin(t), np.cos(t), 1])\n",
        "noise = 1e-3\n",
        "theta_degrees = 1.8\n",
        "rev = 3  # revolutions of camera for the entire process\n",
        "NOS = int(rev * 360 / theta_degrees)\n",
        "NOS_per_section = 150  # must be larger than 5 to satisfy equations\n",
        "camera_speed = 0.5  # in Hz or revolution per second\n",
        "SRD = 1  # m, Source-Reference Distance\n",
        "RDD = 1  # m, Reference-Detector (screen) Distance\n",
        "radius = 1\n",
        "\n",
        "method = 'acceleration'\n",
        "dataPiling = 'overlap'\n",
        "\n",
        "# Auto-calculations of the rest of the parameters derived from the setting above\n",
        "delta_T = camera_speed * theta_degrees / 360\n",
        "shots_per_second = 1 / delta_T\n",
        "\n",
        "# Define the velocity function\n",
        "# v = lambda t: [0.9 * np.sin(t), 0.9 * np.cos(t), 1]\n",
        "\n",
        "# Pack conditions into a list\n",
        "conditions = [noise, delta_T, NOS, theta_degrees, NOS_per_section, SRD, RDD,method,dataPiling]\n",
        "\n",
        "xz_proj = np.zeros((NOS, NumOfDataPoints*2))\n",
        "real_positions = np.zeros((NOS, NumOfDataPoints*3))\n",
        "# Generate test positions\n",
        "for i in range(NumOfDataPoints):\n",
        "    vel = v[i]\n",
        "    xz_proj[:,i*2:i*2+2], real_positions[:,i*3:i*3+3]= generateTestPositions(vel, initial_positions[i], conditions)"
      ]
    },
    {
      "cell_type": "code",
      "execution_count": null,
      "metadata": {
        "trusted": true
      },
      "outputs": [],
      "source": [
        "# Print the first few rows of the generated data\n",
        "print(\"xz_proj:\")\n",
        "print(xz_proj[:])\n",
        "print(\"real_positions:\")\n",
        "print(real_positions[:])"
      ]
    },
    {
      "cell_type": "code",
      "execution_count": null,
      "metadata": {
        "trusted": true
      },
      "outputs": [],
      "source": [
        "# Import the function directly from the module\n",
        "from Phase4_trace_3d import Phase4_trace_3d\n",
        "from smooth_points import smooth_points\n",
        "import particle_path_finder\n",
        "from particle_path_finder import track_particles\n",
        "\n",
        "# Ai recognition caller\n",
        "alpha = np.radians(theta_degrees)  # Example rotation angle in radians\n",
        "tracked = track_particles(xz_proj, alpha)\n",
        "print(tracked)\n",
        "\n",
        "estimated_positions = np.zeros((NOS,3*NumOfDataPoints))\n",
        "# Then you can call it just by its name:\n",
        "for i in range(NumOfDataPoints):\n",
        "    estimated_positions_single = Phase4_trace_3d(initial_positions, conditions, v[i], xz_proj[:,i*2:i*2+2])\n",
        "    estimated_positions_single = smooth_points(estimated_positions_single, 'sg',NOS_per_section)\n",
        "    print(estimated_positions_single.shape)\n",
        "    print(estimated_positions.shape)\n",
        "    estimated_positions[:,i*3:i*3+3] = estimated_positions_single\n",
        "\n"
      ]
    },
    {
      "cell_type": "code",
      "execution_count": null,
      "metadata": {
        "trusted": true
      },
      "outputs": [],
      "source": [
        "print('estimated positions: \\n',estimated_positions)\n",
        "print('real positions: \\n',real_positions)"
      ]
    },
    {
      "cell_type": "code",
      "execution_count": null,
      "metadata": {
        "trusted": true
      },
      "outputs": [],
      "source": [
        "import matplotlib\n",
        "print(matplotlib.get_backend())\n",
        "import matplotlib.pyplot as plt\n",
        "matplotlib.use('TkAgg')  # or another interactive backend\n",
        "\n",
        "# from mpl_toolkits.mplot3d import Axes3D\n",
        "import os\n",
        "\n",
        "\n",
        "def Phase4Graph(real_positions, estimated_positions, conditions, v, f2):\n",
        "    noise, delta_T, NOS, theta_degree, N, SRD, RDD, method, dataPiling = conditions\n",
        "    \n",
        "    plt.ion()\n",
        "    # Ensure that real_positions and estimated_positions are the same length\n",
        "    real_positions = real_positions[:len(estimated_positions)]\n",
        "    \n",
        "    fig = plt.figure(f2, figsize=(20, 16), dpi=100)\n",
        "    \n",
        "    ax1 = fig.add_subplot(111, projection='3d')\n",
        "    \n",
        "    for i in range(NumOfDataPoints):\n",
        "        ax1.plot(real_positions[:, i*3], real_positions[:, i*3+1], real_positions[:, i*3+2], 'r', markersize=10)\n",
        "        ax1.plot(estimated_positions[:, i*3], estimated_positions[:, i*3+1], estimated_positions[:, i*3+2], 'b', linewidth=2)\n",
        "    \n",
        "    ax1.set_xlabel('X')\n",
        "    ax1.set_ylabel('Y')\n",
        "    ax1.set_zlabel('Z')\n",
        "    ax1.set_title('Real Positions vs Estimated Positions in 3D')\n",
        "    ax1.legend(['Real Positions', 'Estimated Positions'])\n",
        "    \n",
        "    distances = np.linalg.norm(real_positions - estimated_positions, axis=1)\n",
        "    min_val, min_idx = np.min(distances), np.argmin(distances)\n",
        "    max_val, max_idx = np.max(distances), np.argmax(distances)\n",
        "    \n",
        "    # ax1.text(*real_positions[min_idx], f'Min ({min_idx}): {real_positions[min_idx]}', color='r')\n",
        "    # ax1.text(*estimated_positions[min_idx], f'Min ({min_idx}): {estimated_positions[min_idx]}', color='b')\n",
        "    # ax1.text(*real_positions[max_idx], f'Max ({max_idx}): {real_positions[max_idx]}', color='r')\n",
        "    # ax1.text(*estimated_positions[max_idx], f'Max ({max_idx}): {estimated_positions[max_idx]}', color='b')\n",
        "    \n",
        "    print(f'Noise: {noise}\\nMin Distance: {min_val}\\nMax Distance: {max_val}\\nNumber of Shots: {NOS}\\nRotation: {theta_degree}\\nTime Between Shots: {delta_T}\\nNOS Per Section: {N}\\nMethod: {method}\\nData Piling: {dataPiling}')\n",
        "    \n",
        "    v_str = str(v).replace('<function ', '').replace(' at 0x' + hex(id(v))[2:] + '>', '')\n",
        "    \n",
        "    print(f'True velocity:\\n{v_str}\\nt is time elapsed')\n",
        "    \n",
        "    \n",
        "    plt.show()\n"
      ]
    },
    {
      "cell_type": "code",
      "execution_count": null,
      "metadata": {
        "trusted": true
      },
      "outputs": [],
      "source": [
        "f2 = 0\n",
        "Phase4Graph(real_positions, estimated_positions, conditions, v, f2)"
      ]
    },
    {
      "cell_type": "code",
      "execution_count": null,
      "metadata": {},
      "outputs": [],
      "source": []
    }
  ],
  "metadata": {
    "kernelspec": {
      "display_name": "Python 3",
      "language": "python",
      "name": "python3"
    },
    "language_info": {
      "codemirror_mode": {
        "name": "ipython",
        "version": 3
      },
      "file_extension": ".py",
      "mimetype": "text/x-python",
      "name": "python",
      "nbconvert_exporter": "python",
      "pygments_lexer": "ipython3",
      "version": "3.11.4"
    }
  },
  "nbformat": 4,
  "nbformat_minor": 4
}
